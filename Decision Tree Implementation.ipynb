{
 "cells": [
  {
   "cell_type": "markdown",
   "id": "a54e9a0e",
   "metadata": {},
   "source": [
    "# Decision Tree Implementation"
   ]
  },
  {
   "cell_type": "markdown",
   "id": "faed7e01",
   "metadata": {},
   "source": [
    "For Iris dataset your task is to print steps for every split in the decision tree."
   ]
  },
  {
   "cell_type": "markdown",
   "id": "36ed9857",
   "metadata": {},
   "source": [
    "Your Project is divided in 2 parts -\n",
    "\n",
    "1. Print the Decision tree steps as specified in the example below. This is of 80 marks in total.\n",
    "2. Decision Tree Implementation:  Building actual decision tree for the dataset and then printing it.\n",
    "   This is of 20 marks."
   ]
  },
  {
   "cell_type": "markdown",
   "id": "4409225e",
   "metadata": {},
   "source": [
    "### Import Libraries"
   ]
  },
  {
   "cell_type": "code",
   "execution_count": 101,
   "id": "c402a062",
   "metadata": {},
   "outputs": [],
   "source": [
    "import numpy as np\n",
    "import pandas as pd\n",
    "from sklearn import datasets\n",
    "import math"
   ]
  },
  {
   "cell_type": "code",
   "execution_count": 102,
   "id": "260e7b42",
   "metadata": {},
   "outputs": [
    {
     "name": "stdout",
     "output_type": "stream",
     "text": [
      "['sepal length (cm)', 'sepal width (cm)', 'petal length (cm)', 'petal width (cm)']\n"
     ]
    }
   ],
   "source": [
    "# load iris dataset\n",
    "iris = datasets.load_iris()\n",
    "print(iris.feature_names) # check feature name"
   ]
  },
  {
   "cell_type": "code",
   "execution_count": 103,
   "id": "c12600a1",
   "metadata": {},
   "outputs": [
    {
     "data": {
      "text/html": [
       "<div>\n",
       "<style scoped>\n",
       "    .dataframe tbody tr th:only-of-type {\n",
       "        vertical-align: middle;\n",
       "    }\n",
       "\n",
       "    .dataframe tbody tr th {\n",
       "        vertical-align: top;\n",
       "    }\n",
       "\n",
       "    .dataframe thead th {\n",
       "        text-align: right;\n",
       "    }\n",
       "</style>\n",
       "<table border=\"1\" class=\"dataframe\">\n",
       "  <thead>\n",
       "    <tr style=\"text-align: right;\">\n",
       "      <th></th>\n",
       "      <th>sepal_length</th>\n",
       "      <th>sepal_width</th>\n",
       "      <th>petal_length</th>\n",
       "      <th>petal_width</th>\n",
       "    </tr>\n",
       "  </thead>\n",
       "  <tbody>\n",
       "    <tr>\n",
       "      <th>0</th>\n",
       "      <td>5.1</td>\n",
       "      <td>3.5</td>\n",
       "      <td>1.4</td>\n",
       "      <td>0.2</td>\n",
       "    </tr>\n",
       "    <tr>\n",
       "      <th>1</th>\n",
       "      <td>4.9</td>\n",
       "      <td>3.0</td>\n",
       "      <td>1.4</td>\n",
       "      <td>0.2</td>\n",
       "    </tr>\n",
       "    <tr>\n",
       "      <th>2</th>\n",
       "      <td>4.7</td>\n",
       "      <td>3.2</td>\n",
       "      <td>1.3</td>\n",
       "      <td>0.2</td>\n",
       "    </tr>\n",
       "    <tr>\n",
       "      <th>3</th>\n",
       "      <td>4.6</td>\n",
       "      <td>3.1</td>\n",
       "      <td>1.5</td>\n",
       "      <td>0.2</td>\n",
       "    </tr>\n",
       "    <tr>\n",
       "      <th>4</th>\n",
       "      <td>5.0</td>\n",
       "      <td>3.6</td>\n",
       "      <td>1.4</td>\n",
       "      <td>0.2</td>\n",
       "    </tr>\n",
       "  </tbody>\n",
       "</table>\n",
       "</div>"
      ],
      "text/plain": [
       "   sepal_length  sepal_width  petal_length  petal_width\n",
       "0           5.1          3.5           1.4          0.2\n",
       "1           4.9          3.0           1.4          0.2\n",
       "2           4.7          3.2           1.3          0.2\n",
       "3           4.6          3.1           1.5          0.2\n",
       "4           5.0          3.6           1.4          0.2"
      ]
     },
     "execution_count": 103,
     "metadata": {},
     "output_type": "execute_result"
    }
   ],
   "source": [
    "# convert iris data into pandas dataframe\n",
    "iris_df = pd.DataFrame(iris.data, columns = ['sepal_length', 'sepal_width', 'petal_length', 'petal_width'])\n",
    "iris_df.head()"
   ]
  },
  {
   "cell_type": "code",
   "execution_count": 104,
   "id": "71dc2248",
   "metadata": {},
   "outputs": [],
   "source": [
    "# here i have converted continuous data to discrete values of 1 ,2 ,3, 4 in each column\n",
    "#if MIN_Value <=val < (m + Mean_Value) / 2 then it is assigned label 1\n",
    "#if (m + Mean_Value) <=val < Mean_Value then it is assigned label 2\n",
    "#if (Mean_Value) <=val < (Mean_Value + MAX_Value)/2 then it is assigned label 3\n",
    "#if (Mean_Value + MAX_Value)/2 <=val <= MAX_Value  then it is assigned label 4\n",
    "\n",
    "def Label(value, *boundaries):\n",
    "    if value < boundaries[0]:\n",
    "        return 1\n",
    "    elif value < boundaries[1]:\n",
    "        return 2\n",
    "    elif value < boundaries[2]:\n",
    "        return 3\n",
    "    else:\n",
    "        return 4"
   ]
  },
  {
   "cell_type": "code",
   "execution_count": 105,
   "id": "1e991554",
   "metadata": {},
   "outputs": [],
   "source": [
    "def Labeled_data(iris_df, feature):\n",
    "    # mean value\n",
    "    Mean_Value = iris_df[feature].mean()\n",
    "    # min value\n",
    "    MIN_Value = iris_df[feature].min()\n",
    "    # MAX_Value\n",
    "    MAX_Value = iris_df[feature].max()\n",
    "    \n",
    "    #if MIN_Value <=val < (m + Mean_Value) / 2 then it is assigned label 1\n",
    "    first = (MIN_Value + Mean_Value)/2\n",
    "    #if (m + Mean_Value) <=val < Mean_Value then it is assigned label 2\n",
    "    second = Mean_Value\n",
    "    #if (Mean_Value) <=val < (Mean_Value + MAX_Value)/2 then it is assigned label 3\n",
    "    third = (Mean_Value + MAX_Value)/2\n",
    "    \n",
    "    iris_df = iris_df[feature].apply(Label, args = (first, second, third))\n",
    "    return iris_df"
   ]
  },
  {
   "cell_type": "code",
   "execution_count": 106,
   "id": "0c339e9b",
   "metadata": {},
   "outputs": [],
   "source": [
    "# ['sepal_len_labelled', 'sepal_wid_labelled', 'petal_len_labelled', 'petal_wid_labelled']\n",
    "# ['sepal_length', 'sepal_width', 'petal_length', 'petal_width']\n",
    "\n",
    "# call Labeled_data \n",
    "iris_df['sepal_len_labelled'] = Labeled_data(iris_df, 'sepal_length')\n",
    "iris_df['sepal_wid_labelled'] = Labeled_data(iris_df, 'sepal_width')\n",
    "iris_df['petal_len_labelled'] = Labeled_data(iris_df, 'petal_length')\n",
    "iris_df['petal_wid_labelled'] = Labeled_data(iris_df, 'petal_width')"
   ]
  },
  {
   "cell_type": "code",
   "execution_count": 107,
   "id": "45c4fcab",
   "metadata": {},
   "outputs": [
    {
     "data": {
      "text/html": [
       "<div>\n",
       "<style scoped>\n",
       "    .dataframe tbody tr th:only-of-type {\n",
       "        vertical-align: middle;\n",
       "    }\n",
       "\n",
       "    .dataframe tbody tr th {\n",
       "        vertical-align: top;\n",
       "    }\n",
       "\n",
       "    .dataframe thead th {\n",
       "        text-align: right;\n",
       "    }\n",
       "</style>\n",
       "<table border=\"1\" class=\"dataframe\">\n",
       "  <thead>\n",
       "    <tr style=\"text-align: right;\">\n",
       "      <th></th>\n",
       "      <th>sepal_length</th>\n",
       "      <th>sepal_width</th>\n",
       "      <th>petal_length</th>\n",
       "      <th>petal_width</th>\n",
       "      <th>sepal_len_labelled</th>\n",
       "      <th>sepal_wid_labelled</th>\n",
       "      <th>petal_len_labelled</th>\n",
       "      <th>petal_wid_labelled</th>\n",
       "    </tr>\n",
       "  </thead>\n",
       "  <tbody>\n",
       "    <tr>\n",
       "      <th>0</th>\n",
       "      <td>5.1</td>\n",
       "      <td>3.5</td>\n",
       "      <td>1.4</td>\n",
       "      <td>0.2</td>\n",
       "      <td>2</td>\n",
       "      <td>3</td>\n",
       "      <td>1</td>\n",
       "      <td>1</td>\n",
       "    </tr>\n",
       "    <tr>\n",
       "      <th>1</th>\n",
       "      <td>4.9</td>\n",
       "      <td>3.0</td>\n",
       "      <td>1.4</td>\n",
       "      <td>0.2</td>\n",
       "      <td>1</td>\n",
       "      <td>2</td>\n",
       "      <td>1</td>\n",
       "      <td>1</td>\n",
       "    </tr>\n",
       "    <tr>\n",
       "      <th>2</th>\n",
       "      <td>4.7</td>\n",
       "      <td>3.2</td>\n",
       "      <td>1.3</td>\n",
       "      <td>0.2</td>\n",
       "      <td>1</td>\n",
       "      <td>3</td>\n",
       "      <td>1</td>\n",
       "      <td>1</td>\n",
       "    </tr>\n",
       "    <tr>\n",
       "      <th>3</th>\n",
       "      <td>4.6</td>\n",
       "      <td>3.1</td>\n",
       "      <td>1.5</td>\n",
       "      <td>0.2</td>\n",
       "      <td>1</td>\n",
       "      <td>3</td>\n",
       "      <td>1</td>\n",
       "      <td>1</td>\n",
       "    </tr>\n",
       "    <tr>\n",
       "      <th>4</th>\n",
       "      <td>5.0</td>\n",
       "      <td>3.6</td>\n",
       "      <td>1.4</td>\n",
       "      <td>0.2</td>\n",
       "      <td>1</td>\n",
       "      <td>3</td>\n",
       "      <td>1</td>\n",
       "      <td>1</td>\n",
       "    </tr>\n",
       "  </tbody>\n",
       "</table>\n",
       "</div>"
      ],
      "text/plain": [
       "   sepal_length  sepal_width  petal_length  petal_width  sepal_len_labelled  \\\n",
       "0           5.1          3.5           1.4          0.2                   2   \n",
       "1           4.9          3.0           1.4          0.2                   1   \n",
       "2           4.7          3.2           1.3          0.2                   1   \n",
       "3           4.6          3.1           1.5          0.2                   1   \n",
       "4           5.0          3.6           1.4          0.2                   1   \n",
       "\n",
       "   sepal_wid_labelled  petal_len_labelled  petal_wid_labelled  \n",
       "0                   3                   1                   1  \n",
       "1                   2                   1                   1  \n",
       "2                   3                   1                   1  \n",
       "3                   3                   1                   1  \n",
       "4                   3                   1                   1  "
      ]
     },
     "execution_count": 107,
     "metadata": {},
     "output_type": "execute_result"
    }
   ],
   "source": [
    "iris_df.head()"
   ]
  },
  {
   "cell_type": "code",
   "execution_count": 108,
   "id": "b970d336",
   "metadata": {},
   "outputs": [],
   "source": [
    "# drop continuous value's columns\n",
    "iris_df.drop(['sepal_length', 'sepal_width', 'petal_length', 'petal_width'], axis = 1, inplace = True)"
   ]
  },
  {
   "cell_type": "code",
   "execution_count": 109,
   "id": "248251a6",
   "metadata": {},
   "outputs": [
    {
     "data": {
      "text/html": [
       "<div>\n",
       "<style scoped>\n",
       "    .dataframe tbody tr th:only-of-type {\n",
       "        vertical-align: middle;\n",
       "    }\n",
       "\n",
       "    .dataframe tbody tr th {\n",
       "        vertical-align: top;\n",
       "    }\n",
       "\n",
       "    .dataframe thead th {\n",
       "        text-align: right;\n",
       "    }\n",
       "</style>\n",
       "<table border=\"1\" class=\"dataframe\">\n",
       "  <thead>\n",
       "    <tr style=\"text-align: right;\">\n",
       "      <th></th>\n",
       "      <th>sepal_len_labelled</th>\n",
       "      <th>sepal_wid_labelled</th>\n",
       "      <th>petal_len_labelled</th>\n",
       "      <th>petal_wid_labelled</th>\n",
       "    </tr>\n",
       "  </thead>\n",
       "  <tbody>\n",
       "    <tr>\n",
       "      <th>0</th>\n",
       "      <td>2</td>\n",
       "      <td>3</td>\n",
       "      <td>1</td>\n",
       "      <td>1</td>\n",
       "    </tr>\n",
       "    <tr>\n",
       "      <th>1</th>\n",
       "      <td>1</td>\n",
       "      <td>2</td>\n",
       "      <td>1</td>\n",
       "      <td>1</td>\n",
       "    </tr>\n",
       "    <tr>\n",
       "      <th>2</th>\n",
       "      <td>1</td>\n",
       "      <td>3</td>\n",
       "      <td>1</td>\n",
       "      <td>1</td>\n",
       "    </tr>\n",
       "    <tr>\n",
       "      <th>3</th>\n",
       "      <td>1</td>\n",
       "      <td>3</td>\n",
       "      <td>1</td>\n",
       "      <td>1</td>\n",
       "    </tr>\n",
       "    <tr>\n",
       "      <th>4</th>\n",
       "      <td>1</td>\n",
       "      <td>3</td>\n",
       "      <td>1</td>\n",
       "      <td>1</td>\n",
       "    </tr>\n",
       "  </tbody>\n",
       "</table>\n",
       "</div>"
      ],
      "text/plain": [
       "   sepal_len_labelled  sepal_wid_labelled  petal_len_labelled  \\\n",
       "0                   2                   3                   1   \n",
       "1                   1                   2                   1   \n",
       "2                   1                   3                   1   \n",
       "3                   1                   3                   1   \n",
       "4                   1                   3                   1   \n",
       "\n",
       "   petal_wid_labelled  \n",
       "0                   1  \n",
       "1                   1  \n",
       "2                   1  \n",
       "3                   1  \n",
       "4                   1  "
      ]
     },
     "execution_count": 109,
     "metadata": {},
     "output_type": "execute_result"
    }
   ],
   "source": [
    "iris_df.head()"
   ]
  },
  {
   "cell_type": "code",
   "execution_count": 110,
   "id": "4bdc41f8",
   "metadata": {
    "scrolled": true
   },
   "outputs": [
    {
     "data": {
      "text/html": [
       "<div>\n",
       "<style scoped>\n",
       "    .dataframe tbody tr th:only-of-type {\n",
       "        vertical-align: middle;\n",
       "    }\n",
       "\n",
       "    .dataframe tbody tr th {\n",
       "        vertical-align: top;\n",
       "    }\n",
       "\n",
       "    .dataframe thead th {\n",
       "        text-align: right;\n",
       "    }\n",
       "</style>\n",
       "<table border=\"1\" class=\"dataframe\">\n",
       "  <thead>\n",
       "    <tr style=\"text-align: right;\">\n",
       "      <th></th>\n",
       "      <th>output</th>\n",
       "    </tr>\n",
       "  </thead>\n",
       "  <tbody>\n",
       "    <tr>\n",
       "      <th>0</th>\n",
       "      <td>0</td>\n",
       "    </tr>\n",
       "    <tr>\n",
       "      <th>1</th>\n",
       "      <td>0</td>\n",
       "    </tr>\n",
       "    <tr>\n",
       "      <th>2</th>\n",
       "      <td>0</td>\n",
       "    </tr>\n",
       "    <tr>\n",
       "      <th>3</th>\n",
       "      <td>0</td>\n",
       "    </tr>\n",
       "    <tr>\n",
       "      <th>4</th>\n",
       "      <td>0</td>\n",
       "    </tr>\n",
       "  </tbody>\n",
       "</table>\n",
       "</div>"
      ],
      "text/plain": [
       "   output\n",
       "0       0\n",
       "1       0\n",
       "2       0\n",
       "3       0\n",
       "4       0"
      ]
     },
     "execution_count": 110,
     "metadata": {},
     "output_type": "execute_result"
    }
   ],
   "source": [
    "# convert y_train data into pd dataframe\n",
    "Y = pd.DataFrame(iris.target, columns = ['output'])\n",
    "Y.head()"
   ]
  },
  {
   "cell_type": "code",
   "execution_count": 111,
   "id": "796b720d",
   "metadata": {},
   "outputs": [
    {
     "name": "stdout",
     "output_type": "stream",
     "text": [
      "unique values =  {0, 1, 2}\n",
      "['setosa' 'versicolor' 'virginica']\n"
     ]
    }
   ],
   "source": [
    "print('unique values = ' ,set(Y['output']))\n",
    "print(iris.target_names)"
   ]
  },
  {
   "cell_type": "code",
   "execution_count": 112,
   "id": "bec7c608",
   "metadata": {},
   "outputs": [
    {
     "data": {
      "text/html": [
       "<div>\n",
       "<style scoped>\n",
       "    .dataframe tbody tr th:only-of-type {\n",
       "        vertical-align: middle;\n",
       "    }\n",
       "\n",
       "    .dataframe tbody tr th {\n",
       "        vertical-align: top;\n",
       "    }\n",
       "\n",
       "    .dataframe thead th {\n",
       "        text-align: right;\n",
       "    }\n",
       "</style>\n",
       "<table border=\"1\" class=\"dataframe\">\n",
       "  <thead>\n",
       "    <tr style=\"text-align: right;\">\n",
       "      <th></th>\n",
       "      <th>output</th>\n",
       "    </tr>\n",
       "  </thead>\n",
       "  <tbody>\n",
       "    <tr>\n",
       "      <th>0</th>\n",
       "      <td>setosa</td>\n",
       "    </tr>\n",
       "    <tr>\n",
       "      <th>1</th>\n",
       "      <td>setosa</td>\n",
       "    </tr>\n",
       "    <tr>\n",
       "      <th>2</th>\n",
       "      <td>setosa</td>\n",
       "    </tr>\n",
       "    <tr>\n",
       "      <th>3</th>\n",
       "      <td>setosa</td>\n",
       "    </tr>\n",
       "    <tr>\n",
       "      <th>4</th>\n",
       "      <td>setosa</td>\n",
       "    </tr>\n",
       "  </tbody>\n",
       "</table>\n",
       "</div>"
      ],
      "text/plain": [
       "   output\n",
       "0  setosa\n",
       "1  setosa\n",
       "2  setosa\n",
       "3  setosa\n",
       "4  setosa"
      ]
     },
     "execution_count": 112,
     "metadata": {},
     "output_type": "execute_result"
    }
   ],
   "source": [
    "Y[Y['output'] == 0] =  'setosa'\n",
    "Y[Y['output'] == 1] = 'versicolor'\n",
    "Y[Y['output'] == 2] = 'virginica'\n",
    "Y.head()"
   ]
  },
  {
   "cell_type": "code",
   "execution_count": 113,
   "id": "7d43359a",
   "metadata": {},
   "outputs": [
    {
     "data": {
      "text/plain": [
       "{'setosa', 'versicolor', 'virginica'}"
      ]
     },
     "execution_count": 113,
     "metadata": {},
     "output_type": "execute_result"
    }
   ],
   "source": [
    "set(Y['output'])"
   ]
  },
  {
   "cell_type": "markdown",
   "id": "bef43ebc",
   "metadata": {},
   "source": [
    "### Entropy"
   ]
  },
  {
   "cell_type": "code",
   "execution_count": 118,
   "id": "f77d591f",
   "metadata": {},
   "outputs": [],
   "source": [
    "def entropy(y_train):\n",
    "    # all data points present in y_train\n",
    "    total_data_points = len(y_train)\n",
    "    entropy = 0\n",
    "    for i in set(y_train['output']):\n",
    "        # counting accurance of label in y_train data\n",
    "        count_class = len(y_train[y_train['output'] == i])\n",
    "        probability = count_class / total_data_points\n",
    "        # calculate entropy\n",
    "        entropy += probability * math.log(probability, 2)\n",
    "    entropy =  - entropy\n",
    "    return entropy"
   ]
  },
  {
   "cell_type": "markdown",
   "id": "12e752a1",
   "metadata": {},
   "source": [
    "### Information Gain"
   ]
  },
  {
   "cell_type": "code",
   "execution_count": 119,
   "id": "5fd4199d",
   "metadata": {},
   "outputs": [],
   "source": [
    "def Information_gain(x_train, y_train, features):\n",
    "    # calculate entropy of y_train\n",
    "    parent_entropy = entropy(y_train)\n",
    "    # count number of labels present in y_train\n",
    "    total_data_points = len(y_train)\n",
    "    weighted_entropy = 0\n",
    "    \n",
    "    X = set(x_train[features])\n",
    "    for i in X:\n",
    "        child = y_train[x_train[features] == i]\n",
    "        # call entropy fun\n",
    "        child_entropy = entropy(child)\n",
    "        weighted_entropy += (len(child)/total_data_points)*child_entropy\n",
    "    # calculate Information gain\n",
    "    information_gain = parent_entropy - weighted_entropy\n",
    "    return information_gain"
   ]
  },
  {
   "cell_type": "markdown",
   "id": "56877b90",
   "metadata": {},
   "source": [
    "### Split Information"
   ]
  },
  {
   "cell_type": "code",
   "execution_count": 120,
   "id": "9f99dba0",
   "metadata": {},
   "outputs": [],
   "source": [
    "def Split_Info(x_train, y_train, features):\n",
    "    total_data_points = len(y_train)\n",
    "    weighted_avg = 0\n",
    "    \n",
    "    X = set(x_train[features])\n",
    "    \n",
    "    for i in X:\n",
    "        child = y_train[x_train[features] == i]\n",
    "        weighted_avg += (len(child)/total_data_points)*math.log((len(child)/total_data_points), 2)\n",
    "        \n",
    "    weighted_avg = - weighted_avg\n",
    "    return weighted_avg"
   ]
  },
  {
   "cell_type": "markdown",
   "id": "fa8ba38f",
   "metadata": {},
   "source": [
    "### Find Best Feature to split"
   ]
  },
  {
   "cell_type": "code",
   "execution_count": 121,
   "id": "75d6bb25",
   "metadata": {},
   "outputs": [],
   "source": [
    "def Best_Feature(x_train, y_train, features):\n",
    "    best_feature = \"\"\n",
    "    max_gain = -1\n",
    "    \n",
    "    for i in features:\n",
    "        # calculate split info\n",
    "        split_info = Split_Info(x_train, y_train, i)\n",
    "        # calculate information gain\n",
    "        info_gain = Information_gain(x_train, y_train, i)\n",
    "        \n",
    "        if split_info != 0:\n",
    "            # Gain_ratio\n",
    "            gain_ratio = info_gain/split_info\n",
    "        else:\n",
    "            gain_ratio = -1\n",
    "            \n",
    "            \n",
    "        if gain_ratio > max_gain:\n",
    "            best_feature = i\n",
    "            max_gain = gain_ratio\n",
    "    return best_feature, max_gain"
   ]
  },
  {
   "cell_type": "code",
   "execution_count": 122,
   "id": "465e4575",
   "metadata": {},
   "outputs": [],
   "source": [
    "def Decision_Tree(x_train, y_train, features, level):\n",
    "    classes = set(y_train['output'])\n",
    "    # all unique Labels present in Y_train\n",
    "    # Now we need to handle all the cases whether we can split our tree or not\n",
    "    # and we reached at Leaf Node or not\n",
    "    \n",
    "    # case-1 Pure Node\n",
    "    if len(classes) == 1:\n",
    "        print('Lavel ', level)\n",
    "        Class = list(classes)[0]\n",
    "        print('Count of ', Class, ' = ',len(y_train))\n",
    "        print('Current Entropy  is = 0.0')\n",
    "        print('Reached Leaf Node')\n",
    "        print('Class Name ', Class)\n",
    "        print()\n",
    "        return\n",
    "    \n",
    "    # case-2 No More features, means length of features = 0, means we can't split further\n",
    "    elif len(features) == 0:\n",
    "        print(\"Level \", level)\n",
    "        for curr_class in classes:\n",
    "            count_curr_class = (y_train['output'] == curr_class).sum()\n",
    "            print('Count of ', curr_class, ' = ',count_curr_class)\n",
    "        # find entropy\n",
    "        curr_entropy = entropy(y_train)\n",
    "        print('Current Entropy  is ', curr_entropy)\n",
    "        print('Reached Leaf Node')\n",
    "        print('Class Name = ', curr_class)\n",
    "        print()\n",
    "        return\n",
    "    # case-3 when features count is not 0 and don't have leaf node\n",
    "    else:\n",
    "        print('Level ', level)\n",
    "        max_count = 0\n",
    "        for i in classes:\n",
    "            j = (y_train['output'] == i).sum()\n",
    "            print('Count of ', i, ' = ', j)\n",
    "            if j >= max_count :\n",
    "                max_count = j\n",
    "                output_class = i\n",
    "        curr_entropy = entropy(y_train)\n",
    "        print('Current Entropy  is ', curr_entropy)\n",
    "        best_feature, gain_ratio = Best_Feature(x_train, y_train, features)\n",
    "        print('Splitting on feature ', best_feature, ' with gain ratio ', gain_ratio)\n",
    "        print()\n",
    "        \n",
    "        # splitting curr node on all different value\n",
    "        # the best feature can have and recursively calling DT on each split\n",
    "        diff_val_of_best_feature = set(x_train[best_feature])\n",
    "        \n",
    "        for curr_feature in diff_val_of_best_feature:\n",
    "            x = x_train[(x_train[best_feature] == curr_feature)]\n",
    "            y = y_train[(x_train[best_feature] == curr_feature)]\n",
    "            # recursive call\n",
    "            features = features - {best_feature}\n",
    "            Decision_Tree(x, y, features, level + 1)\n",
    "    return"
   ]
  },
  {
   "cell_type": "code",
   "execution_count": 124,
   "id": "e0dda619",
   "metadata": {},
   "outputs": [
    {
     "name": "stdout",
     "output_type": "stream",
     "text": [
      "Level  0\n",
      "Count of  versicolor  =  50\n",
      "Count of  setosa  =  50\n",
      "Count of  virginica  =  50\n",
      "Current Entropy  is  1.584962500721156\n",
      "Splitting on feature  petal_wid_labelled  with gain ratio  0.699638203622209\n",
      "\n",
      "Lavel  1\n",
      "Count of  setosa  =  50\n",
      "Current Entropy  is = 0.0\n",
      "Reached Leaf Node\n",
      "Class Name  setosa\n",
      "\n",
      "Lavel  1\n",
      "Count of  versicolor  =  10\n",
      "Current Entropy  is = 0.0\n",
      "Reached Leaf Node\n",
      "Class Name  versicolor\n",
      "\n",
      "Level  1\n",
      "Count of  versicolor  =  40\n",
      "Count of  virginica  =  16\n",
      "Current Entropy  is  0.863120568566631\n",
      "Splitting on feature  petal_len_labelled  with gain ratio  0.4334099495621066\n",
      "\n",
      "Lavel  2\n",
      "Count of  versicolor  =  1\n",
      "Current Entropy  is = 0.0\n",
      "Reached Leaf Node\n",
      "Class Name  versicolor\n",
      "\n",
      "Level  2\n",
      "Count of  versicolor  =  39\n",
      "Count of  virginica  =  8\n",
      "Current Entropy  is  0.6581912658132185\n",
      "Splitting on feature  sepal_len_labelled  with gain ratio  0.12674503775809332\n",
      "\n",
      "Lavel  3\n",
      "Count of  virginica  =  1\n",
      "Current Entropy  is = 0.0\n",
      "Reached Leaf Node\n",
      "Class Name  virginica\n",
      "\n",
      "Lavel  3\n",
      "Count of  versicolor  =  14\n",
      "Current Entropy  is = 0.0\n",
      "Reached Leaf Node\n",
      "Class Name  versicolor\n",
      "\n",
      "Level  3\n",
      "Count of  versicolor  =  23\n",
      "Count of  virginica  =  7\n",
      "Current Entropy  is  0.783776947484701\n",
      "Splitting on feature  sepal_wid_labelled  with gain ratio  0.07092036405148876\n",
      "\n",
      "Level  4\n",
      "Count of  versicolor  =  3\n",
      "Count of  virginica  =  1\n",
      "Current Entropy  is  0.8112781244591328\n",
      "Reached Leaf Node\n",
      "Class Name =  virginica\n",
      "\n",
      "Level  4\n",
      "Count of  versicolor  =  14\n",
      "Count of  virginica  =  6\n",
      "Current Entropy  is  0.8812908992306927\n",
      "Reached Leaf Node\n",
      "Class Name =  virginica\n",
      "\n",
      "Lavel  4\n",
      "Count of  versicolor  =  6\n",
      "Current Entropy  is = 0.0\n",
      "Reached Leaf Node\n",
      "Class Name  versicolor\n",
      "\n",
      "Lavel  3\n",
      "Count of  versicolor  =  2\n",
      "Current Entropy  is = 0.0\n",
      "Reached Leaf Node\n",
      "Class Name  versicolor\n",
      "\n",
      "Lavel  2\n",
      "Count of  virginica  =  8\n",
      "Current Entropy  is = 0.0\n",
      "Reached Leaf Node\n",
      "Class Name  virginica\n",
      "\n",
      "Lavel  1\n",
      "Count of  virginica  =  34\n",
      "Current Entropy  is = 0.0\n",
      "Reached Leaf Node\n",
      "Class Name  virginica\n",
      "\n"
     ]
    }
   ],
   "source": [
    "features = set(iris_df.columns)\n",
    "Decision_Tree(iris_df, Y, features, 0)"
   ]
  },
  {
   "cell_type": "markdown",
   "id": "8657c09f",
   "metadata": {},
   "source": [
    "### Using sklearn Decision Tree Implementation"
   ]
  },
  {
   "cell_type": "code",
   "execution_count": 125,
   "id": "cf341819",
   "metadata": {},
   "outputs": [],
   "source": [
    "from sklearn.tree import DecisionTreeClassifier\n",
    "from sklearn.tree import export_graphviz\n",
    "from sklearn.metrics import confusion_matrix"
   ]
  },
  {
   "cell_type": "code",
   "execution_count": 126,
   "id": "ed65877e",
   "metadata": {},
   "outputs": [
    {
     "data": {
      "text/plain": [
       "DecisionTreeClassifier()"
      ]
     },
     "execution_count": 126,
     "metadata": {},
     "output_type": "execute_result"
    }
   ],
   "source": [
    "# train model\n",
    "clf = DecisionTreeClassifier()\n",
    "clf.fit(iris.data, iris.target)"
   ]
  },
  {
   "cell_type": "code",
   "execution_count": 127,
   "id": "2afb7a83",
   "metadata": {},
   "outputs": [],
   "source": [
    "# prediction\n",
    "y_train_pred = clf.predict(iris.data)"
   ]
  },
  {
   "cell_type": "code",
   "execution_count": 128,
   "id": "aec5a5c1",
   "metadata": {},
   "outputs": [
    {
     "data": {
      "text/plain": [
       "array([[50,  0,  0],\n",
       "       [ 0, 50,  0],\n",
       "       [ 0,  0, 50]], dtype=int64)"
      ]
     },
     "execution_count": 128,
     "metadata": {},
     "output_type": "execute_result"
    }
   ],
   "source": [
    "confusion_matrix(y_train_pred, iris.target)"
   ]
  },
  {
   "cell_type": "markdown",
   "id": "7dd7c3ae",
   "metadata": {},
   "source": [
    "### Showing Iris Tree and save in pdf"
   ]
  },
  {
   "cell_type": "code",
   "execution_count": 133,
   "id": "9b915ed5",
   "metadata": {},
   "outputs": [],
   "source": [
    "from IPython.display import Image\n",
    "from sklearn.tree import export_graphviz\n",
    "import pydotplus"
   ]
  },
  {
   "cell_type": "code",
   "execution_count": 134,
   "id": "8fd7f52a",
   "metadata": {},
   "outputs": [
    {
     "data": {
      "text/plain": [
       "True"
      ]
     },
     "execution_count": 134,
     "metadata": {},
     "output_type": "execute_result"
    }
   ],
   "source": [
    "from sklearn.tree import export_graphviz\n",
    "import pydotplus\n",
    "\n",
    "dot_data = export_graphviz(clf, out_file = None,\n",
    "                          feature_names = iris.feature_names,\n",
    "                          class_names = iris.target_names)\n",
    "# save iris_tree in pdf file \n",
    "graph = pydotplus.graph_from_dot_data(dot_data)\n",
    "graph.write_pdf(\"iris_data_Tree.pdf\")"
   ]
  },
  {
   "cell_type": "code",
   "execution_count": 135,
   "id": "d121640e",
   "metadata": {},
   "outputs": [
    {
     "data": {
      "image/png": "[encoded data removed]",
      "text/plain": [
       "<IPython.core.display.Image object>"
      ]
     },
     "execution_count": 135,
     "metadata": {},
     "output_type": "execute_result"
    }
   ],
   "source": [
    "graph = pydotplus.graph_from_dot_data(dot_data)\n",
    "Image(graph.create_png())"
   ]
  },
  {
   "cell_type": "markdown",
   "id": "75787960",
   "metadata": {},
   "source": [
    "### OR Data"
   ]
  },
  {
   "cell_type": "code",
   "execution_count": 80,
   "id": "1d8360da",
   "metadata": {},
   "outputs": [],
   "source": [
    "OR_data = [[False ,False , False],\n",
    "          [False ,True , True],\n",
    "          [True ,False , True],\n",
    "          [True ,True , False]]\n",
    "OR_df = pd.DataFrame(OR_data, columns = [\"X1\", \"X2\", \"Y(X1 OR X2)\"])"
   ]
  },
  {
   "cell_type": "code",
   "execution_count": 81,
   "id": "a458e055",
   "metadata": {},
   "outputs": [
    {
     "data": {
      "text/html": [
       "<div>\n",
       "<style scoped>\n",
       "    .dataframe tbody tr th:only-of-type {\n",
       "        vertical-align: middle;\n",
       "    }\n",
       "\n",
       "    .dataframe tbody tr th {\n",
       "        vertical-align: top;\n",
       "    }\n",
       "\n",
       "    .dataframe thead th {\n",
       "        text-align: right;\n",
       "    }\n",
       "</style>\n",
       "<table border=\"1\" class=\"dataframe\">\n",
       "  <thead>\n",
       "    <tr style=\"text-align: right;\">\n",
       "      <th></th>\n",
       "      <th>X1</th>\n",
       "      <th>X2</th>\n",
       "      <th>Y(X1 OR X2)</th>\n",
       "    </tr>\n",
       "  </thead>\n",
       "  <tbody>\n",
       "    <tr>\n",
       "      <th>0</th>\n",
       "      <td>False</td>\n",
       "      <td>False</td>\n",
       "      <td>False</td>\n",
       "    </tr>\n",
       "    <tr>\n",
       "      <th>1</th>\n",
       "      <td>False</td>\n",
       "      <td>True</td>\n",
       "      <td>True</td>\n",
       "    </tr>\n",
       "    <tr>\n",
       "      <th>2</th>\n",
       "      <td>True</td>\n",
       "      <td>False</td>\n",
       "      <td>True</td>\n",
       "    </tr>\n",
       "    <tr>\n",
       "      <th>3</th>\n",
       "      <td>True</td>\n",
       "      <td>True</td>\n",
       "      <td>False</td>\n",
       "    </tr>\n",
       "  </tbody>\n",
       "</table>\n",
       "</div>"
      ],
      "text/plain": [
       "      X1     X2  Y(X1 OR X2)\n",
       "0  False  False        False\n",
       "1  False   True         True\n",
       "2   True  False         True\n",
       "3   True   True        False"
      ]
     },
     "execution_count": 81,
     "metadata": {},
     "output_type": "execute_result"
    }
   ],
   "source": [
    "OR_df"
   ]
  },
  {
   "cell_type": "code",
   "execution_count": 82,
   "id": "8e122119",
   "metadata": {},
   "outputs": [],
   "source": [
    "x_train = OR_df.iloc[:, :-1]\n",
    "y_train = OR_df.iloc[:, -1]"
   ]
  },
  {
   "cell_type": "code",
   "execution_count": 83,
   "id": "4cca7a24",
   "metadata": {},
   "outputs": [
    {
     "data": {
      "text/plain": [
       "DecisionTreeClassifier()"
      ]
     },
     "execution_count": 83,
     "metadata": {},
     "output_type": "execute_result"
    }
   ],
   "source": [
    "# train model\n",
    "clf2 = DecisionTreeClassifier()\n",
    "clf2.fit(x_train, y_train)"
   ]
  },
  {
   "cell_type": "code",
   "execution_count": 84,
   "id": "2ee09766",
   "metadata": {},
   "outputs": [],
   "source": [
    "# prediction\n",
    "y_pred = clf2.predict(x_train)"
   ]
  },
  {
   "cell_type": "code",
   "execution_count": 85,
   "id": "f3e4ef3f",
   "metadata": {
    "scrolled": true
   },
   "outputs": [
    {
     "data": {
      "text/plain": [
       "array([[2, 0],\n",
       "       [0, 2]], dtype=int64)"
      ]
     },
     "execution_count": 85,
     "metadata": {},
     "output_type": "execute_result"
    }
   ],
   "source": [
    "confusion_matrix(y_pred, y_train)"
   ]
  },
  {
   "cell_type": "markdown",
   "id": "f89c8795",
   "metadata": {},
   "source": [
    "### Showing OR Tree and save in pdf"
   ]
  },
  {
   "cell_type": "code",
   "execution_count": 136,
   "id": "8172ba09",
   "metadata": {},
   "outputs": [
    {
     "data": {
      "text/plain": [
       "True"
      ]
     },
     "execution_count": 136,
     "metadata": {},
     "output_type": "execute_result"
    }
   ],
   "source": [
    "dot_data = export_graphviz(clf2, out_file = None,\n",
    "                          feature_names = [\"X1\", \"X2\"],\n",
    "                          class_names = [\"0\", \"1\"])\n",
    "\n",
    "graph = pydotplus.graph_from_dot_data(dot_data)\n",
    "graph.write_pdf(\"OR_data_Tree.pdf\")"
   ]
  },
  {
   "cell_type": "code",
   "execution_count": 137,
   "id": "8a40a580",
   "metadata": {},
   "outputs": [
    {
     "data": {
      "image/png": "[encoded data removed]",
      "text/plain": [
       "<IPython.core.display.Image object>"
      ]
     },
     "execution_count": 137,
     "metadata": {},
     "output_type": "execute_result"
    }
   ],
   "source": [
    "graph = pydotplus.graph_from_dot_data(dot_data)\n",
    "Image(graph.create_png())"
   ]
  },
  {
   "cell_type": "code",
   "execution_count": null,
   "id": "566b001a",
   "metadata": {},
   "outputs": [],
   "source": []
  }
 ],
 "metadata": {
  "kernelspec": {
   "display_name": "Python 3",
   "language": "python",
   "name": "python3"
  },
  "language_info": {
   "codemirror_mode": {
    "name": "ipython",
    "version": 3
   },
   "file_extension": ".py",
   "mimetype": "text/x-python",
   "name": "python",
   "nbconvert_exporter": "python",
   "pygments_lexer": "ipython3",
   "version": "3.8.8"
  }
 },
 "nbformat": 4,
 "nbformat_minor": 5
}
